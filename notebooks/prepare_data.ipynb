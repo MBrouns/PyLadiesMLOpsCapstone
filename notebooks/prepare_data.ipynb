{
 "cells": [
  {
   "cell_type": "code",
   "execution_count": 44,
   "source": [
    "import os\r\n",
    "import pandas as pd\r\n",
    "import numpy as np\r\n",
    "from matplotlib import pyplot\r\n",
    "\r\n",
    "from pandas_profiling import ProfileReport"
   ],
   "outputs": [],
   "metadata": {}
  },
  {
   "cell_type": "code",
   "execution_count": 45,
   "source": [
    "WORKDIR = os.getcwd()\r\n",
    "DATADIR = os.path.join(WORKDIR, '../data')"
   ],
   "outputs": [],
   "metadata": {}
  },
  {
   "cell_type": "code",
   "execution_count": 80,
   "source": [
    "# Read in all csv files\r\n",
    "df_weather = pd.read_csv(os.path.join(DATADIR, 'weather.csv'), parse_dates = ['data_index_'], index_col = 'data_index_')\r\n",
    "df_load = pd.read_csv(os.path.join(DATADIR, 'load_actuals.csv'), parse_dates = ['data_index_'], index_col = 'data_index_')\r\n",
    "df_wind = pd.read_csv(os.path.join(DATADIR, 'wind_solar_predictions.csv'), parse_dates = ['data_index_'], index_col = 'data_index_')"
   ],
   "outputs": [],
   "metadata": {}
  },
  {
   "cell_type": "code",
   "execution_count": 81,
   "source": [
    "df_load.head()"
   ],
   "outputs": [
    {
     "output_type": "execute_result",
     "data": {
      "text/plain": [
       "                           load_actuals_mw\n",
       "data_index_                               \n",
       "2020-01-01 00:00:00+00:00        95.756328\n",
       "2020-01-01 00:15:00+00:00        94.836196\n",
       "2020-01-01 00:30:00+00:00        93.798127\n",
       "2020-01-01 00:45:00+00:00        92.162902\n",
       "2020-01-01 01:00:00+00:00        91.506670"
      ],
      "text/html": [
       "<div>\n",
       "<style scoped>\n",
       "    .dataframe tbody tr th:only-of-type {\n",
       "        vertical-align: middle;\n",
       "    }\n",
       "\n",
       "    .dataframe tbody tr th {\n",
       "        vertical-align: top;\n",
       "    }\n",
       "\n",
       "    .dataframe thead th {\n",
       "        text-align: right;\n",
       "    }\n",
       "</style>\n",
       "<table border=\"1\" class=\"dataframe\">\n",
       "  <thead>\n",
       "    <tr style=\"text-align: right;\">\n",
       "      <th></th>\n",
       "      <th>load_actuals_mw</th>\n",
       "    </tr>\n",
       "    <tr>\n",
       "      <th>data_index_</th>\n",
       "      <th></th>\n",
       "    </tr>\n",
       "  </thead>\n",
       "  <tbody>\n",
       "    <tr>\n",
       "      <th>2020-01-01 00:00:00+00:00</th>\n",
       "      <td>95.756328</td>\n",
       "    </tr>\n",
       "    <tr>\n",
       "      <th>2020-01-01 00:15:00+00:00</th>\n",
       "      <td>94.836196</td>\n",
       "    </tr>\n",
       "    <tr>\n",
       "      <th>2020-01-01 00:30:00+00:00</th>\n",
       "      <td>93.798127</td>\n",
       "    </tr>\n",
       "    <tr>\n",
       "      <th>2020-01-01 00:45:00+00:00</th>\n",
       "      <td>92.162902</td>\n",
       "    </tr>\n",
       "    <tr>\n",
       "      <th>2020-01-01 01:00:00+00:00</th>\n",
       "      <td>91.506670</td>\n",
       "    </tr>\n",
       "  </tbody>\n",
       "</table>\n",
       "</div>"
      ]
     },
     "metadata": {},
     "execution_count": 81
    }
   ],
   "metadata": {}
  },
  {
   "cell_type": "code",
   "execution_count": 82,
   "source": [
    "# Get daily load_actuals instead of every 15min in a day\r\n",
    "df_load.resample('D').sum().head(30).plot()\r\n",
    "df_load_daily = df_load.resample('D').sum()"
   ],
   "outputs": [
    {
     "output_type": "display_data",
     "data": {
      "text/plain": [
       "<Figure size 432x288 with 1 Axes>"
      ],
      "image/png": "[encoded data removed]"
     },
     "metadata": {
      "needs_background": "light"
     }
    }
   ],
   "metadata": {}
  },
  {
   "cell_type": "code",
   "execution_count": 83,
   "source": [
    "# Creating new column day of week from 0 to 6 from Sunday to Saturday\r\n",
    "df_load_daily['dayofweek'] = df_load_daily.index.weekday"
   ],
   "outputs": [],
   "metadata": {}
  },
  {
   "cell_type": "code",
   "execution_count": 84,
   "source": [
    "df_load_daily.head()"
   ],
   "outputs": [
    {
     "output_type": "execute_result",
     "data": {
      "text/plain": [
       "                           load_actuals_mw  dayofweek\n",
       "data_index_                                          \n",
       "2020-01-01 00:00:00+00:00      8931.046100          2\n",
       "2020-01-02 00:00:00+00:00     10287.299968          3\n",
       "2020-01-03 00:00:00+00:00     10396.662102          4\n",
       "2020-01-04 00:00:00+00:00      9893.106810          5\n",
       "2020-01-05 00:00:00+00:00      9818.553867          6"
      ],
      "text/html": [
       "<div>\n",
       "<style scoped>\n",
       "    .dataframe tbody tr th:only-of-type {\n",
       "        vertical-align: middle;\n",
       "    }\n",
       "\n",
       "    .dataframe tbody tr th {\n",
       "        vertical-align: top;\n",
       "    }\n",
       "\n",
       "    .dataframe thead th {\n",
       "        text-align: right;\n",
       "    }\n",
       "</style>\n",
       "<table border=\"1\" class=\"dataframe\">\n",
       "  <thead>\n",
       "    <tr style=\"text-align: right;\">\n",
       "      <th></th>\n",
       "      <th>load_actuals_mw</th>\n",
       "      <th>dayofweek</th>\n",
       "    </tr>\n",
       "    <tr>\n",
       "      <th>data_index_</th>\n",
       "      <th></th>\n",
       "      <th></th>\n",
       "    </tr>\n",
       "  </thead>\n",
       "  <tbody>\n",
       "    <tr>\n",
       "      <th>2020-01-01 00:00:00+00:00</th>\n",
       "      <td>8931.046100</td>\n",
       "      <td>2</td>\n",
       "    </tr>\n",
       "    <tr>\n",
       "      <th>2020-01-02 00:00:00+00:00</th>\n",
       "      <td>10287.299968</td>\n",
       "      <td>3</td>\n",
       "    </tr>\n",
       "    <tr>\n",
       "      <th>2020-01-03 00:00:00+00:00</th>\n",
       "      <td>10396.662102</td>\n",
       "      <td>4</td>\n",
       "    </tr>\n",
       "    <tr>\n",
       "      <th>2020-01-04 00:00:00+00:00</th>\n",
       "      <td>9893.106810</td>\n",
       "      <td>5</td>\n",
       "    </tr>\n",
       "    <tr>\n",
       "      <th>2020-01-05 00:00:00+00:00</th>\n",
       "      <td>9818.553867</td>\n",
       "      <td>6</td>\n",
       "    </tr>\n",
       "  </tbody>\n",
       "</table>\n",
       "</div>"
      ]
     },
     "metadata": {},
     "execution_count": 84
    }
   ],
   "metadata": {}
  },
  {
   "cell_type": "code",
   "execution_count": 85,
   "source": [
    "#df_load.assign(weekday = df_load.index.weekday)"
   ],
   "outputs": [],
   "metadata": {}
  },
  {
   "cell_type": "code",
   "execution_count": 86,
   "source": [
    "df_load_pred = (\r\n",
    "    df_load_daily.groupby('dayofweek')\r\n",
    "    .rolling(2, closed = 'left')\r\n",
    "    .mean()\r\n",
    "    .reset_index()\r\n",
    "    .sort_values(by ='data_index_')\r\n",
    "    .set_index('data_index_')\r\n",
    ").rename(columns ={'load_actuals_mw' : 'load_pred_mw'})"
   ],
   "outputs": [],
   "metadata": {}
  },
  {
   "cell_type": "code",
   "execution_count": 87,
   "source": [
    "df_load_pred.head(20)"
   ],
   "outputs": [
    {
     "output_type": "execute_result",
     "data": {
      "text/plain": [
       "                           dayofweek  load_pred_mw\n",
       "data_index_                                       \n",
       "2020-01-01 00:00:00+00:00          2           NaN\n",
       "2020-01-02 00:00:00+00:00          3           NaN\n",
       "2020-01-03 00:00:00+00:00          4           NaN\n",
       "2020-01-04 00:00:00+00:00          5           NaN\n",
       "2020-01-05 00:00:00+00:00          6           NaN\n",
       "2020-01-06 00:00:00+00:00          0           NaN\n",
       "2020-01-07 00:00:00+00:00          1           NaN\n",
       "2020-01-08 00:00:00+00:00          2           NaN\n",
       "2020-01-09 00:00:00+00:00          3           NaN\n",
       "2020-01-10 00:00:00+00:00          4           NaN\n",
       "2020-01-11 00:00:00+00:00          5           NaN\n",
       "2020-01-12 00:00:00+00:00          6           NaN\n",
       "2020-01-13 00:00:00+00:00          0           NaN\n",
       "2020-01-14 00:00:00+00:00          1           NaN\n",
       "2020-01-15 00:00:00+00:00          2  10178.149906\n",
       "2020-01-16 00:00:00+00:00          3  10708.442896\n",
       "2020-01-17 00:00:00+00:00          4  10806.161266\n",
       "2020-01-18 00:00:00+00:00          5  10006.685330\n",
       "2020-01-19 00:00:00+00:00          6   9754.771028\n",
       "2020-01-20 00:00:00+00:00          0  11005.889968"
      ],
      "text/html": [
       "<div>\n",
       "<style scoped>\n",
       "    .dataframe tbody tr th:only-of-type {\n",
       "        vertical-align: middle;\n",
       "    }\n",
       "\n",
       "    .dataframe tbody tr th {\n",
       "        vertical-align: top;\n",
       "    }\n",
       "\n",
       "    .dataframe thead th {\n",
       "        text-align: right;\n",
       "    }\n",
       "</style>\n",
       "<table border=\"1\" class=\"dataframe\">\n",
       "  <thead>\n",
       "    <tr style=\"text-align: right;\">\n",
       "      <th></th>\n",
       "      <th>dayofweek</th>\n",
       "      <th>load_pred_mw</th>\n",
       "    </tr>\n",
       "    <tr>\n",
       "      <th>data_index_</th>\n",
       "      <th></th>\n",
       "      <th></th>\n",
       "    </tr>\n",
       "  </thead>\n",
       "  <tbody>\n",
       "    <tr>\n",
       "      <th>2020-01-01 00:00:00+00:00</th>\n",
       "      <td>2</td>\n",
       "      <td>NaN</td>\n",
       "    </tr>\n",
       "    <tr>\n",
       "      <th>2020-01-02 00:00:00+00:00</th>\n",
       "      <td>3</td>\n",
       "      <td>NaN</td>\n",
       "    </tr>\n",
       "    <tr>\n",
       "      <th>2020-01-03 00:00:00+00:00</th>\n",
       "      <td>4</td>\n",
       "      <td>NaN</td>\n",
       "    </tr>\n",
       "    <tr>\n",
       "      <th>2020-01-04 00:00:00+00:00</th>\n",
       "      <td>5</td>\n",
       "      <td>NaN</td>\n",
       "    </tr>\n",
       "    <tr>\n",
       "      <th>2020-01-05 00:00:00+00:00</th>\n",
       "      <td>6</td>\n",
       "      <td>NaN</td>\n",
       "    </tr>\n",
       "    <tr>\n",
       "      <th>2020-01-06 00:00:00+00:00</th>\n",
       "      <td>0</td>\n",
       "      <td>NaN</td>\n",
       "    </tr>\n",
       "    <tr>\n",
       "      <th>2020-01-07 00:00:00+00:00</th>\n",
       "      <td>1</td>\n",
       "      <td>NaN</td>\n",
       "    </tr>\n",
       "    <tr>\n",
       "      <th>2020-01-08 00:00:00+00:00</th>\n",
       "      <td>2</td>\n",
       "      <td>NaN</td>\n",
       "    </tr>\n",
       "    <tr>\n",
       "      <th>2020-01-09 00:00:00+00:00</th>\n",
       "      <td>3</td>\n",
       "      <td>NaN</td>\n",
       "    </tr>\n",
       "    <tr>\n",
       "      <th>2020-01-10 00:00:00+00:00</th>\n",
       "      <td>4</td>\n",
       "      <td>NaN</td>\n",
       "    </tr>\n",
       "    <tr>\n",
       "      <th>2020-01-11 00:00:00+00:00</th>\n",
       "      <td>5</td>\n",
       "      <td>NaN</td>\n",
       "    </tr>\n",
       "    <tr>\n",
       "      <th>2020-01-12 00:00:00+00:00</th>\n",
       "      <td>6</td>\n",
       "      <td>NaN</td>\n",
       "    </tr>\n",
       "    <tr>\n",
       "      <th>2020-01-13 00:00:00+00:00</th>\n",
       "      <td>0</td>\n",
       "      <td>NaN</td>\n",
       "    </tr>\n",
       "    <tr>\n",
       "      <th>2020-01-14 00:00:00+00:00</th>\n",
       "      <td>1</td>\n",
       "      <td>NaN</td>\n",
       "    </tr>\n",
       "    <tr>\n",
       "      <th>2020-01-15 00:00:00+00:00</th>\n",
       "      <td>2</td>\n",
       "      <td>10178.149906</td>\n",
       "    </tr>\n",
       "    <tr>\n",
       "      <th>2020-01-16 00:00:00+00:00</th>\n",
       "      <td>3</td>\n",
       "      <td>10708.442896</td>\n",
       "    </tr>\n",
       "    <tr>\n",
       "      <th>2020-01-17 00:00:00+00:00</th>\n",
       "      <td>4</td>\n",
       "      <td>10806.161266</td>\n",
       "    </tr>\n",
       "    <tr>\n",
       "      <th>2020-01-18 00:00:00+00:00</th>\n",
       "      <td>5</td>\n",
       "      <td>10006.685330</td>\n",
       "    </tr>\n",
       "    <tr>\n",
       "      <th>2020-01-19 00:00:00+00:00</th>\n",
       "      <td>6</td>\n",
       "      <td>9754.771028</td>\n",
       "    </tr>\n",
       "    <tr>\n",
       "      <th>2020-01-20 00:00:00+00:00</th>\n",
       "      <td>0</td>\n",
       "      <td>11005.889968</td>\n",
       "    </tr>\n",
       "  </tbody>\n",
       "</table>\n",
       "</div>"
      ]
     },
     "metadata": {},
     "execution_count": 87
    }
   ],
   "metadata": {}
  },
  {
   "cell_type": "code",
   "execution_count": 88,
   "source": [
    "fig, ax = pyplot.subplots(figsize = [15, 5])\r\n",
    "df_load_daily.plot( ax = ax)\r\n",
    "df_load_pred.plot(ax = ax)"
   ],
   "outputs": [
    {
     "output_type": "execute_result",
     "data": {
      "text/plain": [
       "<AxesSubplot:xlabel='data_index_'>"
      ]
     },
     "metadata": {},
     "execution_count": 88
    },
    {
     "output_type": "display_data",
     "data": {
      "text/plain": [
       "<Figure size 1080x360 with 1 Axes>"
      ],
      "image/png": "[encoded data removed]"
     },
     "metadata": {
      "needs_background": "light"
     }
    }
   ],
   "metadata": {}
  },
  {
   "cell_type": "code",
   "execution_count": 89,
   "source": [
    "MAPE = abs((df_load_pred.load_pred_mw - df_load_daily.load_actuals_mw)/df_load_daily.load_actuals_mw).sum()/len(df_load_pred) * 100\r\n",
    "MAPE"
   ],
   "outputs": [
    {
     "output_type": "execute_result",
     "data": {
      "text/plain": [
       "26.520473692265178"
      ]
     },
     "metadata": {},
     "execution_count": 89
    }
   ],
   "metadata": {}
  },
  {
   "cell_type": "code",
   "execution_count": 90,
   "source": [
    "def generate_rolling(df, var, max_roll):\r\n",
    "    for t in range(1, max_roll+1):\r\n",
    "        df['load_pred_roll'+str(t)] = (\r\n",
    "            df.groupby(var)\r\n",
    "            .rolling(t, closed = 'left')\r\n",
    "            .mean()\r\n",
    "            .reset_index()\r\n",
    "            .sort_values(by ='data_index_')\r\n",
    "            .set_index('data_index_')\r\n",
    "        )['load_actuals_mw']"
   ],
   "outputs": [],
   "metadata": {}
  },
  {
   "cell_type": "code",
   "execution_count": 91,
   "source": [
    "generate_rolling(df_load_daily, 'dayofweek', 6)"
   ],
   "outputs": [],
   "metadata": {}
  },
  {
   "cell_type": "code",
   "execution_count": 92,
   "source": [
    "df_load_daily.head(30)"
   ],
   "outputs": [
    {
     "output_type": "execute_result",
     "data": {
      "text/plain": [
       "                           load_actuals_mw  dayofweek  load_pred_roll1  \\\n",
       "data_index_                                                              \n",
       "2020-01-01 00:00:00+00:00      8931.046100          2              NaN   \n",
       "2020-01-02 00:00:00+00:00     10287.299968          3              NaN   \n",
       "2020-01-03 00:00:00+00:00     10396.662102          4              NaN   \n",
       "2020-01-04 00:00:00+00:00      9893.106810          5              NaN   \n",
       "2020-01-05 00:00:00+00:00      9818.553867          6              NaN   \n",
       "2020-01-06 00:00:00+00:00     11069.136081          0              NaN   \n",
       "2020-01-07 00:00:00+00:00     11374.718430          1              NaN   \n",
       "2020-01-08 00:00:00+00:00     11425.253712          2      8931.046100   \n",
       "2020-01-09 00:00:00+00:00     11129.585824          3     10287.299968   \n",
       "2020-01-10 00:00:00+00:00     11215.660429          4     10396.662102   \n",
       "2020-01-11 00:00:00+00:00     10120.263851          5      9893.106810   \n",
       "2020-01-12 00:00:00+00:00      9690.988189          6      9818.553867   \n",
       "2020-01-13 00:00:00+00:00     10942.643855          0     11069.136081   \n",
       "2020-01-14 00:00:00+00:00     11078.522743          1     11374.718430   \n",
       "2020-01-15 00:00:00+00:00     11096.111603          2     11425.253712   \n",
       "2020-01-16 00:00:00+00:00     11077.796181          3     11129.585824   \n",
       "2020-01-17 00:00:00+00:00     11107.768514          4     11215.660429   \n",
       "2020-01-18 00:00:00+00:00     10320.491030          5     10120.263851   \n",
       "2020-01-19 00:00:00+00:00     10065.886176          6      9690.988189   \n",
       "2020-01-20 00:00:00+00:00     11812.485399          0     10942.643855   \n",
       "2020-01-21 00:00:00+00:00     12123.739368          1     11078.522743   \n",
       "2020-01-22 00:00:00+00:00     12285.341040          2     11096.111603   \n",
       "2020-01-23 00:00:00+00:00     12074.253841          3     11077.796181   \n",
       "2020-01-24 00:00:00+00:00     12147.816432          4     11107.768514   \n",
       "2020-01-25 00:00:00+00:00     11011.856378          5     10320.491030   \n",
       "2020-01-26 00:00:00+00:00      9965.713563          6     10065.886176   \n",
       "2020-01-27 00:00:00+00:00     11201.405747          0     11812.485399   \n",
       "2020-01-28 00:00:00+00:00     11105.437889          1     12123.739368   \n",
       "2020-01-29 00:00:00+00:00     11298.822185          2     12285.341040   \n",
       "2020-01-30 00:00:00+00:00     11104.525331          3     12074.253841   \n",
       "\n",
       "                           load_pred_roll2  load_pred_roll3  load_pred_roll4  \\\n",
       "data_index_                                                                    \n",
       "2020-01-01 00:00:00+00:00              NaN              NaN              NaN   \n",
       "2020-01-02 00:00:00+00:00              NaN              NaN              NaN   \n",
       "2020-01-03 00:00:00+00:00              NaN              NaN              NaN   \n",
       "2020-01-04 00:00:00+00:00              NaN              NaN              NaN   \n",
       "2020-01-05 00:00:00+00:00              NaN              NaN              NaN   \n",
       "2020-01-06 00:00:00+00:00              NaN              NaN              NaN   \n",
       "2020-01-07 00:00:00+00:00              NaN              NaN              NaN   \n",
       "2020-01-08 00:00:00+00:00              NaN              NaN              NaN   \n",
       "2020-01-09 00:00:00+00:00              NaN              NaN              NaN   \n",
       "2020-01-10 00:00:00+00:00              NaN              NaN              NaN   \n",
       "2020-01-11 00:00:00+00:00              NaN              NaN              NaN   \n",
       "2020-01-12 00:00:00+00:00              NaN              NaN              NaN   \n",
       "2020-01-13 00:00:00+00:00              NaN              NaN              NaN   \n",
       "2020-01-14 00:00:00+00:00              NaN              NaN              NaN   \n",
       "2020-01-15 00:00:00+00:00     10178.149906              NaN              NaN   \n",
       "2020-01-16 00:00:00+00:00     10708.442896              NaN              NaN   \n",
       "2020-01-17 00:00:00+00:00     10806.161266              NaN              NaN   \n",
       "2020-01-18 00:00:00+00:00     10006.685330              NaN              NaN   \n",
       "2020-01-19 00:00:00+00:00      9754.771028              NaN              NaN   \n",
       "2020-01-20 00:00:00+00:00     11005.889968              NaN              NaN   \n",
       "2020-01-21 00:00:00+00:00     11226.620587              NaN              NaN   \n",
       "2020-01-22 00:00:00+00:00     11260.682657     10484.137138              NaN   \n",
       "2020-01-23 00:00:00+00:00     11103.691002     10831.560658              NaN   \n",
       "2020-01-24 00:00:00+00:00     11161.714471     10906.697015              NaN   \n",
       "2020-01-25 00:00:00+00:00     10220.377440     10111.287230              NaN   \n",
       "2020-01-26 00:00:00+00:00      9878.437183      9858.476077              NaN   \n",
       "2020-01-27 00:00:00+00:00     11377.564627     11274.755112              NaN   \n",
       "2020-01-28 00:00:00+00:00     11601.131055     11525.660180              NaN   \n",
       "2020-01-29 00:00:00+00:00     11690.726321     11602.235451     10934.438113   \n",
       "2020-01-30 00:00:00+00:00     11576.025011     11427.211949     11142.233954   \n",
       "\n",
       "                           load_pred_roll5  load_pred_roll6  \n",
       "data_index_                                                  \n",
       "2020-01-01 00:00:00+00:00              NaN              NaN  \n",
       "2020-01-02 00:00:00+00:00              NaN              NaN  \n",
       "2020-01-03 00:00:00+00:00              NaN              NaN  \n",
       "2020-01-04 00:00:00+00:00              NaN              NaN  \n",
       "2020-01-05 00:00:00+00:00              NaN              NaN  \n",
       "2020-01-06 00:00:00+00:00              NaN              NaN  \n",
       "2020-01-07 00:00:00+00:00              NaN              NaN  \n",
       "2020-01-08 00:00:00+00:00              NaN              NaN  \n",
       "2020-01-09 00:00:00+00:00              NaN              NaN  \n",
       "2020-01-10 00:00:00+00:00              NaN              NaN  \n",
       "2020-01-11 00:00:00+00:00              NaN              NaN  \n",
       "2020-01-12 00:00:00+00:00              NaN              NaN  \n",
       "2020-01-13 00:00:00+00:00              NaN              NaN  \n",
       "2020-01-14 00:00:00+00:00              NaN              NaN  \n",
       "2020-01-15 00:00:00+00:00              NaN              NaN  \n",
       "2020-01-16 00:00:00+00:00              NaN              NaN  \n",
       "2020-01-17 00:00:00+00:00              NaN              NaN  \n",
       "2020-01-18 00:00:00+00:00              NaN              NaN  \n",
       "2020-01-19 00:00:00+00:00              NaN              NaN  \n",
       "2020-01-20 00:00:00+00:00              NaN              NaN  \n",
       "2020-01-21 00:00:00+00:00              NaN              NaN  \n",
       "2020-01-22 00:00:00+00:00              NaN              NaN  \n",
       "2020-01-23 00:00:00+00:00              NaN              NaN  \n",
       "2020-01-24 00:00:00+00:00              NaN              NaN  \n",
       "2020-01-25 00:00:00+00:00              NaN              NaN  \n",
       "2020-01-26 00:00:00+00:00              NaN              NaN  \n",
       "2020-01-27 00:00:00+00:00              NaN              NaN  \n",
       "2020-01-28 00:00:00+00:00              NaN              NaN  \n",
       "2020-01-29 00:00:00+00:00              NaN              NaN  \n",
       "2020-01-30 00:00:00+00:00              NaN              NaN  "
      ],
      "text/html": [
       "<div>\n",
       "<style scoped>\n",
       "    .dataframe tbody tr th:only-of-type {\n",
       "        vertical-align: middle;\n",
       "    }\n",
       "\n",
       "    .dataframe tbody tr th {\n",
       "        vertical-align: top;\n",
       "    }\n",
       "\n",
       "    .dataframe thead th {\n",
       "        text-align: right;\n",
       "    }\n",
       "</style>\n",
       "<table border=\"1\" class=\"dataframe\">\n",
       "  <thead>\n",
       "    <tr style=\"text-align: right;\">\n",
       "      <th></th>\n",
       "      <th>load_actuals_mw</th>\n",
       "      <th>dayofweek</th>\n",
       "      <th>load_pred_roll1</th>\n",
       "      <th>load_pred_roll2</th>\n",
       "      <th>load_pred_roll3</th>\n",
       "      <th>load_pred_roll4</th>\n",
       "      <th>load_pred_roll5</th>\n",
       "      <th>load_pred_roll6</th>\n",
       "    </tr>\n",
       "    <tr>\n",
       "      <th>data_index_</th>\n",
       "      <th></th>\n",
       "      <th></th>\n",
       "      <th></th>\n",
       "      <th></th>\n",
       "      <th></th>\n",
       "      <th></th>\n",
       "      <th></th>\n",
       "      <th></th>\n",
       "    </tr>\n",
       "  </thead>\n",
       "  <tbody>\n",
       "    <tr>\n",
       "      <th>2020-01-01 00:00:00+00:00</th>\n",
       "      <td>8931.046100</td>\n",
       "      <td>2</td>\n",
       "      <td>NaN</td>\n",
       "      <td>NaN</td>\n",
       "      <td>NaN</td>\n",
       "      <td>NaN</td>\n",
       "      <td>NaN</td>\n",
       "      <td>NaN</td>\n",
       "    </tr>\n",
       "    <tr>\n",
       "      <th>2020-01-02 00:00:00+00:00</th>\n",
       "      <td>10287.299968</td>\n",
       "      <td>3</td>\n",
       "      <td>NaN</td>\n",
       "      <td>NaN</td>\n",
       "      <td>NaN</td>\n",
       "      <td>NaN</td>\n",
       "      <td>NaN</td>\n",
       "      <td>NaN</td>\n",
       "    </tr>\n",
       "    <tr>\n",
       "      <th>2020-01-03 00:00:00+00:00</th>\n",
       "      <td>10396.662102</td>\n",
       "      <td>4</td>\n",
       "      <td>NaN</td>\n",
       "      <td>NaN</td>\n",
       "      <td>NaN</td>\n",
       "      <td>NaN</td>\n",
       "      <td>NaN</td>\n",
       "      <td>NaN</td>\n",
       "    </tr>\n",
       "    <tr>\n",
       "      <th>2020-01-04 00:00:00+00:00</th>\n",
       "      <td>9893.106810</td>\n",
       "      <td>5</td>\n",
       "      <td>NaN</td>\n",
       "      <td>NaN</td>\n",
       "      <td>NaN</td>\n",
       "      <td>NaN</td>\n",
       "      <td>NaN</td>\n",
       "      <td>NaN</td>\n",
       "    </tr>\n",
       "    <tr>\n",
       "      <th>2020-01-05 00:00:00+00:00</th>\n",
       "      <td>9818.553867</td>\n",
       "      <td>6</td>\n",
       "      <td>NaN</td>\n",
       "      <td>NaN</td>\n",
       "      <td>NaN</td>\n",
       "      <td>NaN</td>\n",
       "      <td>NaN</td>\n",
       "      <td>NaN</td>\n",
       "    </tr>\n",
       "    <tr>\n",
       "      <th>2020-01-06 00:00:00+00:00</th>\n",
       "      <td>11069.136081</td>\n",
       "      <td>0</td>\n",
       "      <td>NaN</td>\n",
       "      <td>NaN</td>\n",
       "      <td>NaN</td>\n",
       "      <td>NaN</td>\n",
       "      <td>NaN</td>\n",
       "      <td>NaN</td>\n",
       "    </tr>\n",
       "    <tr>\n",
       "      <th>2020-01-07 00:00:00+00:00</th>\n",
       "      <td>11374.718430</td>\n",
       "      <td>1</td>\n",
       "      <td>NaN</td>\n",
       "      <td>NaN</td>\n",
       "      <td>NaN</td>\n",
       "      <td>NaN</td>\n",
       "      <td>NaN</td>\n",
       "      <td>NaN</td>\n",
       "    </tr>\n",
       "    <tr>\n",
       "      <th>2020-01-08 00:00:00+00:00</th>\n",
       "      <td>11425.253712</td>\n",
       "      <td>2</td>\n",
       "      <td>8931.046100</td>\n",
       "      <td>NaN</td>\n",
       "      <td>NaN</td>\n",
       "      <td>NaN</td>\n",
       "      <td>NaN</td>\n",
       "      <td>NaN</td>\n",
       "    </tr>\n",
       "    <tr>\n",
       "      <th>2020-01-09 00:00:00+00:00</th>\n",
       "      <td>11129.585824</td>\n",
       "      <td>3</td>\n",
       "      <td>10287.299968</td>\n",
       "      <td>NaN</td>\n",
       "      <td>NaN</td>\n",
       "      <td>NaN</td>\n",
       "      <td>NaN</td>\n",
       "      <td>NaN</td>\n",
       "    </tr>\n",
       "    <tr>\n",
       "      <th>2020-01-10 00:00:00+00:00</th>\n",
       "      <td>11215.660429</td>\n",
       "      <td>4</td>\n",
       "      <td>10396.662102</td>\n",
       "      <td>NaN</td>\n",
       "      <td>NaN</td>\n",
       "      <td>NaN</td>\n",
       "      <td>NaN</td>\n",
       "      <td>NaN</td>\n",
       "    </tr>\n",
       "    <tr>\n",
       "      <th>2020-01-11 00:00:00+00:00</th>\n",
       "      <td>10120.263851</td>\n",
       "      <td>5</td>\n",
       "      <td>9893.106810</td>\n",
       "      <td>NaN</td>\n",
       "      <td>NaN</td>\n",
       "      <td>NaN</td>\n",
       "      <td>NaN</td>\n",
       "      <td>NaN</td>\n",
       "    </tr>\n",
       "    <tr>\n",
       "      <th>2020-01-12 00:00:00+00:00</th>\n",
       "      <td>9690.988189</td>\n",
       "      <td>6</td>\n",
       "      <td>9818.553867</td>\n",
       "      <td>NaN</td>\n",
       "      <td>NaN</td>\n",
       "      <td>NaN</td>\n",
       "      <td>NaN</td>\n",
       "      <td>NaN</td>\n",
       "    </tr>\n",
       "    <tr>\n",
       "      <th>2020-01-13 00:00:00+00:00</th>\n",
       "      <td>10942.643855</td>\n",
       "      <td>0</td>\n",
       "      <td>11069.136081</td>\n",
       "      <td>NaN</td>\n",
       "      <td>NaN</td>\n",
       "      <td>NaN</td>\n",
       "      <td>NaN</td>\n",
       "      <td>NaN</td>\n",
       "    </tr>\n",
       "    <tr>\n",
       "      <th>2020-01-14 00:00:00+00:00</th>\n",
       "      <td>11078.522743</td>\n",
       "      <td>1</td>\n",
       "      <td>11374.718430</td>\n",
       "      <td>NaN</td>\n",
       "      <td>NaN</td>\n",
       "      <td>NaN</td>\n",
       "      <td>NaN</td>\n",
       "      <td>NaN</td>\n",
       "    </tr>\n",
       "    <tr>\n",
       "      <th>2020-01-15 00:00:00+00:00</th>\n",
       "      <td>11096.111603</td>\n",
       "      <td>2</td>\n",
       "      <td>11425.253712</td>\n",
       "      <td>10178.149906</td>\n",
       "      <td>NaN</td>\n",
       "      <td>NaN</td>\n",
       "      <td>NaN</td>\n",
       "      <td>NaN</td>\n",
       "    </tr>\n",
       "    <tr>\n",
       "      <th>2020-01-16 00:00:00+00:00</th>\n",
       "      <td>11077.796181</td>\n",
       "      <td>3</td>\n",
       "      <td>11129.585824</td>\n",
       "      <td>10708.442896</td>\n",
       "      <td>NaN</td>\n",
       "      <td>NaN</td>\n",
       "      <td>NaN</td>\n",
       "      <td>NaN</td>\n",
       "    </tr>\n",
       "    <tr>\n",
       "      <th>2020-01-17 00:00:00+00:00</th>\n",
       "      <td>11107.768514</td>\n",
       "      <td>4</td>\n",
       "      <td>11215.660429</td>\n",
       "      <td>10806.161266</td>\n",
       "      <td>NaN</td>\n",
       "      <td>NaN</td>\n",
       "      <td>NaN</td>\n",
       "      <td>NaN</td>\n",
       "    </tr>\n",
       "    <tr>\n",
       "      <th>2020-01-18 00:00:00+00:00</th>\n",
       "      <td>10320.491030</td>\n",
       "      <td>5</td>\n",
       "      <td>10120.263851</td>\n",
       "      <td>10006.685330</td>\n",
       "      <td>NaN</td>\n",
       "      <td>NaN</td>\n",
       "      <td>NaN</td>\n",
       "      <td>NaN</td>\n",
       "    </tr>\n",
       "    <tr>\n",
       "      <th>2020-01-19 00:00:00+00:00</th>\n",
       "      <td>10065.886176</td>\n",
       "      <td>6</td>\n",
       "      <td>9690.988189</td>\n",
       "      <td>9754.771028</td>\n",
       "      <td>NaN</td>\n",
       "      <td>NaN</td>\n",
       "      <td>NaN</td>\n",
       "      <td>NaN</td>\n",
       "    </tr>\n",
       "    <tr>\n",
       "      <th>2020-01-20 00:00:00+00:00</th>\n",
       "      <td>11812.485399</td>\n",
       "      <td>0</td>\n",
       "      <td>10942.643855</td>\n",
       "      <td>11005.889968</td>\n",
       "      <td>NaN</td>\n",
       "      <td>NaN</td>\n",
       "      <td>NaN</td>\n",
       "      <td>NaN</td>\n",
       "    </tr>\n",
       "    <tr>\n",
       "      <th>2020-01-21 00:00:00+00:00</th>\n",
       "      <td>12123.739368</td>\n",
       "      <td>1</td>\n",
       "      <td>11078.522743</td>\n",
       "      <td>11226.620587</td>\n",
       "      <td>NaN</td>\n",
       "      <td>NaN</td>\n",
       "      <td>NaN</td>\n",
       "      <td>NaN</td>\n",
       "    </tr>\n",
       "    <tr>\n",
       "      <th>2020-01-22 00:00:00+00:00</th>\n",
       "      <td>12285.341040</td>\n",
       "      <td>2</td>\n",
       "      <td>11096.111603</td>\n",
       "      <td>11260.682657</td>\n",
       "      <td>10484.137138</td>\n",
       "      <td>NaN</td>\n",
       "      <td>NaN</td>\n",
       "      <td>NaN</td>\n",
       "    </tr>\n",
       "    <tr>\n",
       "      <th>2020-01-23 00:00:00+00:00</th>\n",
       "      <td>12074.253841</td>\n",
       "      <td>3</td>\n",
       "      <td>11077.796181</td>\n",
       "      <td>11103.691002</td>\n",
       "      <td>10831.560658</td>\n",
       "      <td>NaN</td>\n",
       "      <td>NaN</td>\n",
       "      <td>NaN</td>\n",
       "    </tr>\n",
       "    <tr>\n",
       "      <th>2020-01-24 00:00:00+00:00</th>\n",
       "      <td>12147.816432</td>\n",
       "      <td>4</td>\n",
       "      <td>11107.768514</td>\n",
       "      <td>11161.714471</td>\n",
       "      <td>10906.697015</td>\n",
       "      <td>NaN</td>\n",
       "      <td>NaN</td>\n",
       "      <td>NaN</td>\n",
       "    </tr>\n",
       "    <tr>\n",
       "      <th>2020-01-25 00:00:00+00:00</th>\n",
       "      <td>11011.856378</td>\n",
       "      <td>5</td>\n",
       "      <td>10320.491030</td>\n",
       "      <td>10220.377440</td>\n",
       "      <td>10111.287230</td>\n",
       "      <td>NaN</td>\n",
       "      <td>NaN</td>\n",
       "      <td>NaN</td>\n",
       "    </tr>\n",
       "    <tr>\n",
       "      <th>2020-01-26 00:00:00+00:00</th>\n",
       "      <td>9965.713563</td>\n",
       "      <td>6</td>\n",
       "      <td>10065.886176</td>\n",
       "      <td>9878.437183</td>\n",
       "      <td>9858.476077</td>\n",
       "      <td>NaN</td>\n",
       "      <td>NaN</td>\n",
       "      <td>NaN</td>\n",
       "    </tr>\n",
       "    <tr>\n",
       "      <th>2020-01-27 00:00:00+00:00</th>\n",
       "      <td>11201.405747</td>\n",
       "      <td>0</td>\n",
       "      <td>11812.485399</td>\n",
       "      <td>11377.564627</td>\n",
       "      <td>11274.755112</td>\n",
       "      <td>NaN</td>\n",
       "      <td>NaN</td>\n",
       "      <td>NaN</td>\n",
       "    </tr>\n",
       "    <tr>\n",
       "      <th>2020-01-28 00:00:00+00:00</th>\n",
       "      <td>11105.437889</td>\n",
       "      <td>1</td>\n",
       "      <td>12123.739368</td>\n",
       "      <td>11601.131055</td>\n",
       "      <td>11525.660180</td>\n",
       "      <td>NaN</td>\n",
       "      <td>NaN</td>\n",
       "      <td>NaN</td>\n",
       "    </tr>\n",
       "    <tr>\n",
       "      <th>2020-01-29 00:00:00+00:00</th>\n",
       "      <td>11298.822185</td>\n",
       "      <td>2</td>\n",
       "      <td>12285.341040</td>\n",
       "      <td>11690.726321</td>\n",
       "      <td>11602.235451</td>\n",
       "      <td>10934.438113</td>\n",
       "      <td>NaN</td>\n",
       "      <td>NaN</td>\n",
       "    </tr>\n",
       "    <tr>\n",
       "      <th>2020-01-30 00:00:00+00:00</th>\n",
       "      <td>11104.525331</td>\n",
       "      <td>3</td>\n",
       "      <td>12074.253841</td>\n",
       "      <td>11576.025011</td>\n",
       "      <td>11427.211949</td>\n",
       "      <td>11142.233954</td>\n",
       "      <td>NaN</td>\n",
       "      <td>NaN</td>\n",
       "    </tr>\n",
       "  </tbody>\n",
       "</table>\n",
       "</div>"
      ]
     },
     "metadata": {},
     "execution_count": 92
    }
   ],
   "metadata": {}
  },
  {
   "cell_type": "code",
   "execution_count": 93,
   "source": [
    "fig, ax = pyplot.subplots(figsize = [15, 5])\r\n",
    "df_load_daily.head(120).plot( ax = ax)\r\n"
   ],
   "outputs": [
    {
     "output_type": "execute_result",
     "data": {
      "text/plain": [
       "<AxesSubplot:xlabel='data_index_'>"
      ]
     },
     "metadata": {},
     "execution_count": 93
    },
    {
     "output_type": "display_data",
     "data": {
      "text/plain": [
       "<Figure size 1080x360 with 1 Axes>"
      ],
      "image/png": "[encoded data removed]"
     },
     "metadata": {
      "needs_background": "light"
     }
    }
   ],
   "metadata": {}
  },
  {
   "cell_type": "code",
   "execution_count": null,
   "source": [
    "MAPE = abs((df_load_pred.load_pred_mw - df_load_daily.load_actuals_mw)/df_load_daily.load_actuals_mw).sum()/len(df_load_pred) * 100\r\n",
    "MAPE"
   ],
   "outputs": [],
   "metadata": {}
  },
  {
   "cell_type": "code",
   "execution_count": null,
   "source": [],
   "outputs": [],
   "metadata": {}
  },
  {
   "cell_type": "code",
   "execution_count": null,
   "source": [],
   "outputs": [],
   "metadata": {}
  },
  {
   "cell_type": "code",
   "execution_count": null,
   "source": [],
   "outputs": [],
   "metadata": {}
  },
  {
   "cell_type": "code",
   "execution_count": null,
   "source": [],
   "outputs": [],
   "metadata": {}
  },
  {
   "cell_type": "code",
   "execution_count": null,
   "source": [],
   "outputs": [],
   "metadata": {}
  },
  {
   "cell_type": "code",
   "execution_count": null,
   "source": [],
   "outputs": [],
   "metadata": {}
  },
  {
   "cell_type": "code",
   "execution_count": null,
   "source": [],
   "outputs": [],
   "metadata": {}
  },
  {
   "cell_type": "code",
   "execution_count": null,
   "source": [
    "#df_weather.info()\r\n",
    "#df_load.info()\r\n",
    "df_wind.info()"
   ],
   "outputs": [
    {
     "output_type": "stream",
     "name": "stdout",
     "text": [
      "<class 'pandas.core.frame.DataFrame'>\n",
      "DatetimeIndex: 50497 entries, 2020-01-01 00:00:00+00:00 to 2021-06-10 00:00:00+00:00\n",
      "Data columns (total 2 columns):\n",
      " #   Column               Non-Null Count  Dtype  \n",
      "---  ------               --------------  -----  \n",
      " 0   solar_prediction_mw  50497 non-null  float64\n",
      " 1   wind_prediction_mw   50497 non-null  float64\n",
      "dtypes: float64(2)\n",
      "memory usage: 1.2 MB\n"
     ]
    }
   ],
   "metadata": {}
  },
  {
   "cell_type": "code",
   "execution_count": null,
   "source": [
    "min1 = df_weather.index.min()"
   ],
   "outputs": [],
   "metadata": {}
  },
  {
   "cell_type": "code",
   "execution_count": null,
   "source": [
    "max1 = df_weather.index.max()"
   ],
   "outputs": [],
   "metadata": {}
  },
  {
   "cell_type": "code",
   "execution_count": null,
   "source": [
    "date = pd.date_range(min1, max1, freq='15T')"
   ],
   "outputs": [],
   "metadata": {}
  },
  {
   "cell_type": "code",
   "execution_count": null,
   "source": [
    "date.shape"
   ],
   "outputs": [
    {
     "output_type": "execute_result",
     "data": {
      "text/plain": [
       "(50497,)"
      ]
     },
     "metadata": {},
     "execution_count": 119
    }
   ],
   "metadata": {}
  },
  {
   "cell_type": "code",
   "execution_count": null,
   "source": [
    "date = pd.DataFrame(index = date)"
   ],
   "outputs": [],
   "metadata": {}
  },
  {
   "cell_type": "code",
   "execution_count": null,
   "source": [
    "date.head()"
   ],
   "outputs": [
    {
     "output_type": "execute_result",
     "data": {
      "text/plain": [
       "Empty DataFrame\n",
       "Columns: []\n",
       "Index: [2020-01-01 00:00:00+00:00, 2020-01-01 00:15:00+00:00, 2020-01-01 00:30:00+00:00, 2020-01-01 00:45:00+00:00, 2020-01-01 01:00:00+00:00]"
      ],
      "text/html": [
       "<div>\n",
       "<style scoped>\n",
       "    .dataframe tbody tr th:only-of-type {\n",
       "        vertical-align: middle;\n",
       "    }\n",
       "\n",
       "    .dataframe tbody tr th {\n",
       "        vertical-align: top;\n",
       "    }\n",
       "\n",
       "    .dataframe thead th {\n",
       "        text-align: right;\n",
       "    }\n",
       "</style>\n",
       "<table border=\"1\" class=\"dataframe\">\n",
       "  <thead>\n",
       "    <tr style=\"text-align: right;\">\n",
       "      <th></th>\n",
       "    </tr>\n",
       "  </thead>\n",
       "  <tbody>\n",
       "    <tr>\n",
       "      <th>2020-01-01 00:00:00+00:00</th>\n",
       "    </tr>\n",
       "    <tr>\n",
       "      <th>2020-01-01 00:15:00+00:00</th>\n",
       "    </tr>\n",
       "    <tr>\n",
       "      <th>2020-01-01 00:30:00+00:00</th>\n",
       "    </tr>\n",
       "    <tr>\n",
       "      <th>2020-01-01 00:45:00+00:00</th>\n",
       "    </tr>\n",
       "    <tr>\n",
       "      <th>2020-01-01 01:00:00+00:00</th>\n",
       "    </tr>\n",
       "  </tbody>\n",
       "</table>\n",
       "</div>"
      ]
     },
     "metadata": {},
     "execution_count": 121
    }
   ],
   "metadata": {}
  },
  {
   "cell_type": "code",
   "execution_count": null,
   "source": [
    "df = pd.merge(df_wind, date, how = 'right', right_index = True, left_index = True)"
   ],
   "outputs": [],
   "metadata": {}
  },
  {
   "cell_type": "code",
   "execution_count": null,
   "source": [
    "df.head()"
   ],
   "outputs": [
    {
     "output_type": "execute_result",
     "data": {
      "text/plain": [
       "                           solar_prediction_mw  wind_prediction_mw\n",
       "2020-01-01 00:00:00+00:00                  0.0           70.865426\n",
       "2020-01-01 00:15:00+00:00                  0.0           69.296785\n",
       "2020-01-01 00:30:00+00:00                  0.0           66.977409\n",
       "2020-01-01 00:45:00+00:00                  0.0           64.305715\n",
       "2020-01-01 01:00:00+00:00                  0.0           61.128262"
      ],
      "text/html": [
       "<div>\n",
       "<style scoped>\n",
       "    .dataframe tbody tr th:only-of-type {\n",
       "        vertical-align: middle;\n",
       "    }\n",
       "\n",
       "    .dataframe tbody tr th {\n",
       "        vertical-align: top;\n",
       "    }\n",
       "\n",
       "    .dataframe thead th {\n",
       "        text-align: right;\n",
       "    }\n",
       "</style>\n",
       "<table border=\"1\" class=\"dataframe\">\n",
       "  <thead>\n",
       "    <tr style=\"text-align: right;\">\n",
       "      <th></th>\n",
       "      <th>solar_prediction_mw</th>\n",
       "      <th>wind_prediction_mw</th>\n",
       "    </tr>\n",
       "  </thead>\n",
       "  <tbody>\n",
       "    <tr>\n",
       "      <th>2020-01-01 00:00:00+00:00</th>\n",
       "      <td>0.0</td>\n",
       "      <td>70.865426</td>\n",
       "    </tr>\n",
       "    <tr>\n",
       "      <th>2020-01-01 00:15:00+00:00</th>\n",
       "      <td>0.0</td>\n",
       "      <td>69.296785</td>\n",
       "    </tr>\n",
       "    <tr>\n",
       "      <th>2020-01-01 00:30:00+00:00</th>\n",
       "      <td>0.0</td>\n",
       "      <td>66.977409</td>\n",
       "    </tr>\n",
       "    <tr>\n",
       "      <th>2020-01-01 00:45:00+00:00</th>\n",
       "      <td>0.0</td>\n",
       "      <td>64.305715</td>\n",
       "    </tr>\n",
       "    <tr>\n",
       "      <th>2020-01-01 01:00:00+00:00</th>\n",
       "      <td>0.0</td>\n",
       "      <td>61.128262</td>\n",
       "    </tr>\n",
       "  </tbody>\n",
       "</table>\n",
       "</div>"
      ]
     },
     "metadata": {},
     "execution_count": 123
    }
   ],
   "metadata": {}
  },
  {
   "cell_type": "code",
   "execution_count": null,
   "source": [
    "df = pd.merge(df_weather, df, how = 'right', right_index = True, left_index = True)"
   ],
   "outputs": [
    {
     "output_type": "error",
     "ename": "NameError",
     "evalue": "name 'df' is not defined",
     "traceback": [
      "\u001b[1;31m---------------------------------------------------------------------------\u001b[0m",
      "\u001b[1;31mNameError\u001b[0m                                 Traceback (most recent call last)",
      "\u001b[1;32m<ipython-input-18-4815c385a520>\u001b[0m in \u001b[0;36m<module>\u001b[1;34m\u001b[0m\n\u001b[1;32m----> 1\u001b[1;33m \u001b[0mdf\u001b[0m \u001b[1;33m=\u001b[0m \u001b[0mpd\u001b[0m\u001b[1;33m.\u001b[0m\u001b[0mmerge\u001b[0m\u001b[1;33m(\u001b[0m\u001b[0mdf_weather\u001b[0m\u001b[1;33m,\u001b[0m \u001b[0mdf\u001b[0m\u001b[1;33m,\u001b[0m \u001b[0mhow\u001b[0m \u001b[1;33m=\u001b[0m \u001b[1;34m'right'\u001b[0m\u001b[1;33m,\u001b[0m \u001b[0mright_index\u001b[0m \u001b[1;33m=\u001b[0m \u001b[1;32mTrue\u001b[0m\u001b[1;33m,\u001b[0m \u001b[0mleft_index\u001b[0m \u001b[1;33m=\u001b[0m \u001b[1;32mTrue\u001b[0m\u001b[1;33m)\u001b[0m\u001b[1;33m\u001b[0m\u001b[1;33m\u001b[0m\u001b[0m\n\u001b[0m",
      "\u001b[1;31mNameError\u001b[0m: name 'df' is not defined"
     ]
    }
   ],
   "metadata": {}
  },
  {
   "cell_type": "code",
   "execution_count": null,
   "source": [
    "df = pd.merge(df_load, df, how = 'right', right_index = True, left_index = True)"
   ],
   "outputs": [
    {
     "output_type": "error",
     "ename": "NameError",
     "evalue": "name 'df' is not defined",
     "traceback": [
      "\u001b[1;31m---------------------------------------------------------------------------\u001b[0m",
      "\u001b[1;31mNameError\u001b[0m                                 Traceback (most recent call last)",
      "\u001b[1;32m<ipython-input-19-11c1afe67faa>\u001b[0m in \u001b[0;36m<module>\u001b[1;34m\u001b[0m\n\u001b[1;32m----> 1\u001b[1;33m \u001b[0mdf\u001b[0m \u001b[1;33m=\u001b[0m \u001b[0mpd\u001b[0m\u001b[1;33m.\u001b[0m\u001b[0mmerge\u001b[0m\u001b[1;33m(\u001b[0m\u001b[0mdf_load\u001b[0m\u001b[1;33m,\u001b[0m \u001b[0mdf\u001b[0m\u001b[1;33m,\u001b[0m \u001b[0mhow\u001b[0m \u001b[1;33m=\u001b[0m \u001b[1;34m'right'\u001b[0m\u001b[1;33m,\u001b[0m \u001b[0mright_index\u001b[0m \u001b[1;33m=\u001b[0m \u001b[1;32mTrue\u001b[0m\u001b[1;33m,\u001b[0m \u001b[0mleft_index\u001b[0m \u001b[1;33m=\u001b[0m \u001b[1;32mTrue\u001b[0m\u001b[1;33m)\u001b[0m\u001b[1;33m\u001b[0m\u001b[1;33m\u001b[0m\u001b[0m\n\u001b[0m",
      "\u001b[1;31mNameError\u001b[0m: name 'df' is not defined"
     ]
    }
   ],
   "metadata": {}
  },
  {
   "cell_type": "code",
   "execution_count": 61,
   "source": [
    "df.head()"
   ],
   "outputs": [
    {
     "output_type": "error",
     "ename": "NameError",
     "evalue": "name 'df' is not defined",
     "traceback": [
      "\u001b[1;31m---------------------------------------------------------------------------\u001b[0m",
      "\u001b[1;31mNameError\u001b[0m                                 Traceback (most recent call last)",
      "\u001b[1;32m<ipython-input-61-c42a15b2c7cf>\u001b[0m in \u001b[0;36m<module>\u001b[1;34m\u001b[0m\n\u001b[1;32m----> 1\u001b[1;33m \u001b[0mdf\u001b[0m\u001b[1;33m.\u001b[0m\u001b[0mhead\u001b[0m\u001b[1;33m(\u001b[0m\u001b[1;33m)\u001b[0m\u001b[1;33m\u001b[0m\u001b[1;33m\u001b[0m\u001b[0m\n\u001b[0m",
      "\u001b[1;31mNameError\u001b[0m: name 'df' is not defined"
     ]
    }
   ],
   "metadata": {}
  },
  {
   "cell_type": "code",
   "execution_count": 62,
   "source": [
    "df.to_csv(os.path.join(DATADIR, 'input_data.csv'), index_label='date')"
   ],
   "outputs": [
    {
     "output_type": "error",
     "ename": "NameError",
     "evalue": "name 'df' is not defined",
     "traceback": [
      "\u001b[1;31m---------------------------------------------------------------------------\u001b[0m",
      "\u001b[1;31mNameError\u001b[0m                                 Traceback (most recent call last)",
      "\u001b[1;32m<ipython-input-62-d43b58a605ab>\u001b[0m in \u001b[0;36m<module>\u001b[1;34m\u001b[0m\n\u001b[1;32m----> 1\u001b[1;33m \u001b[0mdf\u001b[0m\u001b[1;33m.\u001b[0m\u001b[0mto_csv\u001b[0m\u001b[1;33m(\u001b[0m\u001b[0mos\u001b[0m\u001b[1;33m.\u001b[0m\u001b[0mpath\u001b[0m\u001b[1;33m.\u001b[0m\u001b[0mjoin\u001b[0m\u001b[1;33m(\u001b[0m\u001b[0mDATADIR\u001b[0m\u001b[1;33m,\u001b[0m \u001b[1;34m'input_data.csv'\u001b[0m\u001b[1;33m)\u001b[0m\u001b[1;33m,\u001b[0m \u001b[0mindex_label\u001b[0m\u001b[1;33m=\u001b[0m\u001b[1;34m'date'\u001b[0m\u001b[1;33m)\u001b[0m\u001b[1;33m\u001b[0m\u001b[1;33m\u001b[0m\u001b[0m\n\u001b[0m",
      "\u001b[1;31mNameError\u001b[0m: name 'df' is not defined"
     ]
    }
   ],
   "metadata": {}
  },
  {
   "cell_type": "code",
   "execution_count": 139,
   "source": [
    "df = pd.read_csv(os.path.join(DATADIR,'input_data.csv'), parse_dates = ['date'])"
   ],
   "outputs": [],
   "metadata": {}
  },
  {
   "cell_type": "code",
   "execution_count": 140,
   "source": [
    "df.head()"
   ],
   "outputs": [
    {
     "output_type": "execute_result",
     "data": {
      "text/plain": [
       "                       date  load_actuals_mw  temperature  solar_ghi  \\\n",
       "0 2020-01-01 00:00:00+00:00        95.756328   274.989655        0.0   \n",
       "1 2020-01-01 00:15:00+00:00        94.836196   274.925659        0.0   \n",
       "2 2020-01-01 00:30:00+00:00        93.798127   274.861694        0.0   \n",
       "3 2020-01-01 00:45:00+00:00        92.162902   274.797699        0.0   \n",
       "4 2020-01-01 01:00:00+00:00        91.506670   274.423157        0.0   \n",
       "\n",
       "   solar_prediction_mw  wind_prediction_mw  \n",
       "0                  0.0           70.865426  \n",
       "1                  0.0           69.296785  \n",
       "2                  0.0           66.977409  \n",
       "3                  0.0           64.305715  \n",
       "4                  0.0           61.128262  "
      ],
      "text/html": [
       "<div>\n",
       "<style scoped>\n",
       "    .dataframe tbody tr th:only-of-type {\n",
       "        vertical-align: middle;\n",
       "    }\n",
       "\n",
       "    .dataframe tbody tr th {\n",
       "        vertical-align: top;\n",
       "    }\n",
       "\n",
       "    .dataframe thead th {\n",
       "        text-align: right;\n",
       "    }\n",
       "</style>\n",
       "<table border=\"1\" class=\"dataframe\">\n",
       "  <thead>\n",
       "    <tr style=\"text-align: right;\">\n",
       "      <th></th>\n",
       "      <th>date</th>\n",
       "      <th>load_actuals_mw</th>\n",
       "      <th>temperature</th>\n",
       "      <th>solar_ghi</th>\n",
       "      <th>solar_prediction_mw</th>\n",
       "      <th>wind_prediction_mw</th>\n",
       "    </tr>\n",
       "  </thead>\n",
       "  <tbody>\n",
       "    <tr>\n",
       "      <th>0</th>\n",
       "      <td>2020-01-01 00:00:00+00:00</td>\n",
       "      <td>95.756328</td>\n",
       "      <td>274.989655</td>\n",
       "      <td>0.0</td>\n",
       "      <td>0.0</td>\n",
       "      <td>70.865426</td>\n",
       "    </tr>\n",
       "    <tr>\n",
       "      <th>1</th>\n",
       "      <td>2020-01-01 00:15:00+00:00</td>\n",
       "      <td>94.836196</td>\n",
       "      <td>274.925659</td>\n",
       "      <td>0.0</td>\n",
       "      <td>0.0</td>\n",
       "      <td>69.296785</td>\n",
       "    </tr>\n",
       "    <tr>\n",
       "      <th>2</th>\n",
       "      <td>2020-01-01 00:30:00+00:00</td>\n",
       "      <td>93.798127</td>\n",
       "      <td>274.861694</td>\n",
       "      <td>0.0</td>\n",
       "      <td>0.0</td>\n",
       "      <td>66.977409</td>\n",
       "    </tr>\n",
       "    <tr>\n",
       "      <th>3</th>\n",
       "      <td>2020-01-01 00:45:00+00:00</td>\n",
       "      <td>92.162902</td>\n",
       "      <td>274.797699</td>\n",
       "      <td>0.0</td>\n",
       "      <td>0.0</td>\n",
       "      <td>64.305715</td>\n",
       "    </tr>\n",
       "    <tr>\n",
       "      <th>4</th>\n",
       "      <td>2020-01-01 01:00:00+00:00</td>\n",
       "      <td>91.506670</td>\n",
       "      <td>274.423157</td>\n",
       "      <td>0.0</td>\n",
       "      <td>0.0</td>\n",
       "      <td>61.128262</td>\n",
       "    </tr>\n",
       "  </tbody>\n",
       "</table>\n",
       "</div>"
      ]
     },
     "metadata": {},
     "execution_count": 140
    }
   ],
   "metadata": {}
  },
  {
   "cell_type": "code",
   "execution_count": 141,
   "source": [
    "profile = df.profile_report(\r\n",
    "    title=\"Pandas Profiling Report\")\r\n",
    "\r\n",
    "profile.to_file(\"output.html\")"
   ],
   "outputs": [
    {
     "output_type": "stream",
     "name": "stderr",
     "text": [
      "Summarize dataset: 100%|██████████| 19/19 [00:19<00:00,  1.04s/it, Completed]\n",
      "Generate report structure: 100%|██████████| 1/1 [00:01<00:00,  1.99s/it]\n",
      "Render HTML: 100%|██████████| 1/1 [00:00<00:00,  1.16it/s]\n",
      "Export report to file: 100%|██████████| 1/1 [00:00<00:00, 111.11it/s]\n"
     ]
    }
   ],
   "metadata": {}
  },
  {
   "cell_type": "code",
   "execution_count": null,
   "source": [],
   "outputs": [],
   "metadata": {}
  }
 ],
 "metadata": {
  "orig_nbformat": 4,
  "language_info": {
   "name": "python",
   "version": "3.8.10",
   "mimetype": "text/x-python",
   "codemirror_mode": {
    "name": "ipython",
    "version": 3
   },
   "pygments_lexer": "ipython3",
   "nbconvert_exporter": "python",
   "file_extension": ".py"
  },
  "kernelspec": {
   "name": "python3",
   "display_name": "Python 3.8.10 64-bit ('capstone_mlops': conda)"
  },
  "interpreter": {
   "hash": "67e59731bd78096bfaaadc9d7563589983d7c0493642dc52b55261519b76134c"
  }
 },
 "nbformat": 4,
 "nbformat_minor": 2
}